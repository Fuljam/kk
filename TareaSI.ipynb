{
  "nbformat": 4,
  "nbformat_minor": 0,
  "metadata": {
    "kernelspec": {
      "display_name": "Python 3",
      "language": "python",
      "name": "python3"
    },
    "language_info": {
      "codemirror_mode": {
        "name": "ipython",
        "version": 3
      },
      "file_extension": ".py",
      "mimetype": "text/x-python",
      "name": "python",
      "nbconvert_exporter": "python",
      "pygments_lexer": "ipython3",
      "version": "3.8.5"
    },
    "colab": {
      "name": "TareaSI.ipynb",
      "provenance": [],
      "collapsed_sections": [],
      "include_colab_link": true
    }
  },
  "cells": [
    {
      "cell_type": "markdown",
      "metadata": {
        "id": "view-in-github",
        "colab_type": "text"
      },
      "source": [
        "<a href=\"https://colab.research.google.com/github/Fuljam/kk/blob/master/TareaSI.ipynb\" target=\"_parent\"><img src=\"https://colab.research.google.com/assets/colab-badge.svg\" alt=\"Open In Colab\"/></a>"
      ]
    },
    {
      "cell_type": "markdown",
      "metadata": {
        "id": "H18jVRZUvxX1"
      },
      "source": [
        "**Data Analytics Aplicado a los Negocios con Python**\r\n",
        "\r\n",
        "**Trabajo Práctico 1**\r\n",
        "\r\n",
        "Integrantes: Mauricio Acuña, Martín Majluf, Joaquín Prieto, Alegna Rada y Felipe Sepúlveda.\r\n",
        "\r\n",
        "A continuación se importan las librerías y algunos comandos a utilizar."
      ]
    },
    {
      "cell_type": "code",
      "metadata": {
        "id": "AsNzv48Yvu8q"
      },
      "source": [
        "import numpy as np\n",
        "import matplotlib.pyplot as plt\n",
        "import pandas as pd\n",
        "from pandas.plotting import scatter_matrix\n",
        "import statsmodels.api as sm\n",
        "from sklearn import linear_model\n",
        "from sklearn.model_selection import train_test_split\n",
        "from scipy import stats"
      ],
      "execution_count": null,
      "outputs": []
    },
    {
      "cell_type": "markdown",
      "metadata": {
        "id": "1W5krmKj24pd"
      },
      "source": [
        "1. Se carga la base de datos."
      ]
    },
    {
      "cell_type": "code",
      "metadata": {
        "id": "g7Kxdd9Jvu8z"
      },
      "source": [
        "data = pd.read_csv('real_estate.csv')"
      ],
      "execution_count": null,
      "outputs": []
    },
    {
      "cell_type": "markdown",
      "metadata": {
        "id": "EG_erCr33V1E"
      },
      "source": [
        "2. Se obtiene la estadística descriptiva."
      ]
    },
    {
      "cell_type": "code",
      "metadata": {
        "colab": {
          "base_uri": "https://localhost:8080/",
          "height": 297
        },
        "id": "cvDlIQipvu80",
        "outputId": "673cccbd-0aac-43e8-ba67-853303c7faab"
      },
      "source": [
        "data.describe()"
      ],
      "execution_count": null,
      "outputs": [
        {
          "output_type": "execute_result",
          "data": {
            "text/html": [
              "<div>\n",
              "<style scoped>\n",
              "    .dataframe tbody tr th:only-of-type {\n",
              "        vertical-align: middle;\n",
              "    }\n",
              "\n",
              "    .dataframe tbody tr th {\n",
              "        vertical-align: top;\n",
              "    }\n",
              "\n",
              "    .dataframe thead th {\n",
              "        text-align: right;\n",
              "    }\n",
              "</style>\n",
              "<table border=\"1\" class=\"dataframe\">\n",
              "  <thead>\n",
              "    <tr style=\"text-align: right;\">\n",
              "      <th></th>\n",
              "      <th>precio</th>\n",
              "      <th>N_dormitorios</th>\n",
              "      <th>N_banos</th>\n",
              "      <th>superficie</th>\n",
              "    </tr>\n",
              "  </thead>\n",
              "  <tbody>\n",
              "    <tr>\n",
              "      <th>count</th>\n",
              "      <td>581.000000</td>\n",
              "      <td>581.000000</td>\n",
              "      <td>581.000000</td>\n",
              "      <td>581.000000</td>\n",
              "    </tr>\n",
              "    <tr>\n",
              "      <th>mean</th>\n",
              "      <td>12.664251</td>\n",
              "      <td>2.573150</td>\n",
              "      <td>1.614458</td>\n",
              "      <td>68.371429</td>\n",
              "    </tr>\n",
              "    <tr>\n",
              "      <th>std</th>\n",
              "      <td>5.048692</td>\n",
              "      <td>0.873105</td>\n",
              "      <td>0.701769</td>\n",
              "      <td>31.440850</td>\n",
              "    </tr>\n",
              "    <tr>\n",
              "      <th>min</th>\n",
              "      <td>4.710000</td>\n",
              "      <td>1.000000</td>\n",
              "      <td>1.000000</td>\n",
              "      <td>21.000000</td>\n",
              "    </tr>\n",
              "    <tr>\n",
              "      <th>25%</th>\n",
              "      <td>9.860000</td>\n",
              "      <td>2.000000</td>\n",
              "      <td>1.000000</td>\n",
              "      <td>50.000000</td>\n",
              "    </tr>\n",
              "    <tr>\n",
              "      <th>50%</th>\n",
              "      <td>11.510000</td>\n",
              "      <td>3.000000</td>\n",
              "      <td>2.000000</td>\n",
              "      <td>60.000000</td>\n",
              "    </tr>\n",
              "    <tr>\n",
              "      <th>75%</th>\n",
              "      <td>13.890000</td>\n",
              "      <td>3.000000</td>\n",
              "      <td>2.000000</td>\n",
              "      <td>78.000000</td>\n",
              "    </tr>\n",
              "    <tr>\n",
              "      <th>max</th>\n",
              "      <td>51.590000</td>\n",
              "      <td>6.000000</td>\n",
              "      <td>4.000000</td>\n",
              "      <td>350.000000</td>\n",
              "    </tr>\n",
              "  </tbody>\n",
              "</table>\n",
              "</div>"
            ],
            "text/plain": [
              "           precio  N_dormitorios     N_banos  superficie\n",
              "count  581.000000     581.000000  581.000000  581.000000\n",
              "mean    12.664251       2.573150    1.614458   68.371429\n",
              "std      5.048692       0.873105    0.701769   31.440850\n",
              "min      4.710000       1.000000    1.000000   21.000000\n",
              "25%      9.860000       2.000000    1.000000   50.000000\n",
              "50%     11.510000       3.000000    2.000000   60.000000\n",
              "75%     13.890000       3.000000    2.000000   78.000000\n",
              "max     51.590000       6.000000    4.000000  350.000000"
            ]
          },
          "metadata": {
            "tags": []
          },
          "execution_count": 5
        }
      ]
    },
    {
      "cell_type": "markdown",
      "metadata": {
        "id": "fBsPPKQe6x5A"
      },
      "source": [
        "En estos estadísticos  se pueden ver medias,errores estándar, percentiles, minimos y máximos. Las medias para el precio es 12,67 UF/mt2, dormitorios 2,57-3 y 2 baños.Aunque si analizamos la densidad y distribción de los datos no se ajustan a la normal, por lo que no so n tan explicativas.\n",
        "La propiedad típica en la muestra tiene un precio de 12, 67 UF/M2\n",
        ", menos de 3 dormitorios, 2 baños y 68, 37 de superficie.\n",
        "\n",
        "50% de los precios se distribuyen entre 10 y 20UF/M2 . Algunas\n",
        "propiedades tienen precios superiores hasta un máximo de 51,59 UF/M2\n",
        ". El 50%  de propiedades tiene una superficie que no supera los 100\n",
        "M2, sin embargo llegan hasta un máximo de 350.\n"
      ]
    },
    {
      "cell_type": "markdown",
      "metadata": {
        "id": "0umrBAsx3ms3"
      },
      "source": [
        "Esto lo podemos complementar con la asimetría y la kurtosis."
      ]
    },
    {
      "cell_type": "code",
      "metadata": {
        "colab": {
          "base_uri": "https://localhost:8080/"
        },
        "id": "HgPizV0n33cR",
        "outputId": "cc29c908-51a3-41b8-8cf3-78de63e5908b"
      },
      "source": [
        "print(\"La curtosis para cada variable se describe a continuación\\n\", data.kurtosis())\r\n",
        "print(\"La asimetría para cada variable se describe a continuación\\n\", data.skew())"
      ],
      "execution_count": null,
      "outputs": [
        {
          "output_type": "stream",
          "text": [
            "La curtosis para cada variable se describe a continuación\n",
            " precio           14.422539\n",
            "N_dormitorios     1.026295\n",
            "N_banos           0.502774\n",
            "superficie       13.653649\n",
            "dtype: float64\n",
            "La asimetría para cada variable se describe a continuación\n",
            " precio           2.881862\n",
            "N_dormitorios    0.211512\n",
            "N_banos          0.939482\n",
            "superficie       2.614858\n",
            "dtype: float64\n"
          ],
          "name": "stdout"
        }
      ]
    },
    {
      "cell_type": "markdown",
      "metadata": {
        "id": "zdHmCq034a6G"
      },
      "source": [
        "Esto da cuenta de la no normalidad de los datos, principalmente para precio y superficie, que tienen curtosis del orden de 13 y 14, siendo que la distribución normal presenta 3 en este estadígrafo. Por otro lado, la asimetría se acerca a cero, a excepción de las mismas variables mencionadas previamente. A pesar de lo que podamos decir a partir de lo observado, lo que debemos hacer es llevar a cabo el test de Jarque-Bera que tiene como hipótesis nula la normalidad de los datos. Para esto ocuparemos la función `stats` de la librería `scipy` y se desarrolla a continuación:"
      ]
    },
    {
      "cell_type": "code",
      "metadata": {
        "colab": {
          "base_uri": "https://localhost:8080/"
        },
        "id": "81sJwfvj-e58",
        "outputId": "80bf8176-76af-4392-c71f-3fe52834db05"
      },
      "source": [
        "jb_precio = stats.jarque_bera(data.precio)\r\n",
        "jb_N_dorm = stats.jarque_bera(data.N_dormitorios)\r\n",
        "jb_N_bano = stats.jarque_bera(data.N_banos)\r\n",
        "jb_sup = stats.jarque_bera(data.superficie)\r\n",
        "print(\"\\n Precio:\", jb_precio,\"\\n N dormitorios:\",jb_N_dorm,\"\\n N baños:\",jb_N_bano,\"\\n Superficie:\",jb_sup)"
      ],
      "execution_count": null,
      "outputs": [
        {
          "output_type": "stream",
          "text": [
            "\n",
            " Precio: (5742.403826464008, 0.0) \n",
            " N dormitorios: (28.866643522804594, 5.391231781004535e-07) \n",
            " N baños: (90.79512620333105, 0.0) \n",
            " Superficie: (5087.7383421721715, 0.0)\n"
          ],
          "name": "stdout"
        }
      ]
    },
    {
      "cell_type": "markdown",
      "metadata": {
        "id": "-LTZ64up-ozY"
      },
      "source": [
        "A partir de esto observamos que (siendo el p-value el segundo valor de la tupla) que se rechaza la hipótesis nula de normalidad en todos los casos. Esto podría ser un potencial problema pero que lo veremos en lo que sigue.\r\n",
        "\r\n",
        "\r\n",
        "2. A continuación presentamos el gráfico del kernel density estimation."
      ]
    },
    {
      "cell_type": "code",
      "metadata": {
        "colab": {
          "base_uri": "https://localhost:8080/",
          "height": 459
        },
        "id": "mmoIW45Pvu81",
        "outputId": "5676a458-c92b-4caf-ac49-b885cfa6f469"
      },
      "source": [
        "data.plot(kind='kde',subplots=True,layout=(2,2),sharex=False,figsize=(8,6))"
      ],
      "execution_count": null,
      "outputs": [
        {
          "output_type": "execute_result",
          "data": {
            "text/plain": [
              "array([[<matplotlib.axes._subplots.AxesSubplot object at 0x7f532529f828>,\n",
              "        <matplotlib.axes._subplots.AxesSubplot object at 0x7f532527aac8>],\n",
              "       [<matplotlib.axes._subplots.AxesSubplot object at 0x7f532522cd30>,\n",
              "        <matplotlib.axes._subplots.AxesSubplot object at 0x7f53251ddf98>]],\n",
              "      dtype=object)"
            ]
          },
          "metadata": {
            "tags": []
          },
          "execution_count": 6
        },
        {
          "output_type": "display_data",
          "data": {
            "image/png": "[encoded data removed]",
            "text/plain": [
              "<Figure size 576x432 with 4 Axes>"
            ]
          },
          "metadata": {
            "tags": [],
            "needs_background": "light"
          }
        }
      ]
    },
    {
      "cell_type": "code",
      "metadata": {
        "colab": {
          "base_uri": "https://localhost:8080/",
          "height": 791
        },
        "id": "N8fhTBGuvu82",
        "outputId": "ee36ce59-e4ea-4234-aadf-5dc7df859c53"
      },
      "source": [
        "scatter_matrix(data,figsize=(9,8))"
      ],
      "execution_count": null,
      "outputs": [
        {
          "output_type": "execute_result",
          "data": {
            "text/plain": [
              "array([[<matplotlib.axes._subplots.AxesSubplot object at 0x7f5322c33940>,\n",
              "        <matplotlib.axes._subplots.AxesSubplot object at 0x7f5322c6aa20>,\n",
              "        <matplotlib.axes._subplots.AxesSubplot object at 0x7f5322c19c88>,\n",
              "        <matplotlib.axes._subplots.AxesSubplot object at 0x7f5322bc8ef0>],\n",
              "       [<matplotlib.axes._subplots.AxesSubplot object at 0x7f5322b87198>,\n",
              "        <matplotlib.axes._subplots.AxesSubplot object at 0x7f5322b3b400>,\n",
              "        <matplotlib.axes._subplots.AxesSubplot object at 0x7f5322b70668>,\n",
              "        <matplotlib.axes._subplots.AxesSubplot object at 0x7f5322b22898>],\n",
              "       [<matplotlib.axes._subplots.AxesSubplot object at 0x7f5322b22908>,\n",
              "        <matplotlib.axes._subplots.AxesSubplot object at 0x7f5322a8eda0>,\n",
              "        <matplotlib.axes._subplots.AxesSubplot object at 0x7f5322a40fd0>,\n",
              "        <matplotlib.axes._subplots.AxesSubplot object at 0x7f53229ff2b0>],\n",
              "       [<matplotlib.axes._subplots.AxesSubplot object at 0x7f53229b3518>,\n",
              "        <matplotlib.axes._subplots.AxesSubplot object at 0x7f53229e7780>,\n",
              "        <matplotlib.axes._subplots.AxesSubplot object at 0x7f532299b9e8>,\n",
              "        <matplotlib.axes._subplots.AxesSubplot object at 0x7f532294fc50>]],\n",
              "      dtype=object)"
            ]
          },
          "metadata": {
            "tags": []
          },
          "execution_count": 7
        },
        {
          "output_type": "display_data",
          "data": {
            "image/png": "[encoded data removed]",
            "text/plain": [
              "<Figure size 648x576 with 16 Axes>"
            ]
          },
          "metadata": {
            "tags": [],
            "needs_background": "light"
          }
        }
      ]
    },
    {
      "cell_type": "markdown",
      "metadata": {
        "id": "tV4pqZ3f72Wt"
      },
      "source": [
        "Esta matriz de graficas es la mejor descripción y revelan la verdad detras de estos datos. En el grafico y=precio,X=superficie se ve una relación positiva (que anteriormente se vio en el $R^2$)"
      ]
    },
    {
      "cell_type": "code",
      "metadata": {
        "id": "KBrWo6gavu82",
        "outputId": "6ca870e7-b0ba-47da-a07b-e796732150d2"
      },
      "source": [
        "data.plot(kind='box',subplots=True,layout=(2,2),sharex=False,sharey=False,figsize=(8,6))"
      ],
      "execution_count": null,
      "outputs": [
        {
          "output_type": "execute_result",
          "data": {
            "text/plain": [
              "precio              AxesSubplot(0.125,0.536818;0.352273x0.343182)\n",
              "N_dormitorios    AxesSubplot(0.547727,0.536818;0.352273x0.343182)\n",
              "N_banos                AxesSubplot(0.125,0.125;0.352273x0.343182)\n",
              "superficie          AxesSubplot(0.547727,0.125;0.352273x0.343182)\n",
              "dtype: object"
            ]
          },
          "metadata": {
            "tags": []
          },
          "execution_count": 20
        },
        {
          "output_type": "display_data",
          "data": {
            "image/png": "[encoded data removed]",
            "text/plain": [
              "<Figure size 576x432 with 4 Axes>"
            ]
          },
          "metadata": {
            "tags": [],
            "needs_background": "light"
          }
        }
      ]
    },
    {
      "cell_type": "code",
      "metadata": {
        "id": "JTgMmEyjvu83",
        "outputId": "1c79131c-1d6a-4b1d-8271-3adfbc661728"
      },
      "source": [
        "data.corr()"
      ],
      "execution_count": null,
      "outputs": [
        {
          "output_type": "execute_result",
          "data": {
            "text/html": [
              "<div>\n",
              "<style scoped>\n",
              "    .dataframe tbody tr th:only-of-type {\n",
              "        vertical-align: middle;\n",
              "    }\n",
              "\n",
              "    .dataframe tbody tr th {\n",
              "        vertical-align: top;\n",
              "    }\n",
              "\n",
              "    .dataframe thead th {\n",
              "        text-align: right;\n",
              "    }\n",
              "</style>\n",
              "<table border=\"1\" class=\"dataframe\">\n",
              "  <thead>\n",
              "    <tr style=\"text-align: right;\">\n",
              "      <th></th>\n",
              "      <th>precio</th>\n",
              "      <th>N_dormitorios</th>\n",
              "      <th>N_banos</th>\n",
              "      <th>superficie</th>\n",
              "    </tr>\n",
              "  </thead>\n",
              "  <tbody>\n",
              "    <tr>\n",
              "      <th>precio</th>\n",
              "      <td>1.000000</td>\n",
              "      <td>0.566154</td>\n",
              "      <td>0.629223</td>\n",
              "      <td>0.809474</td>\n",
              "    </tr>\n",
              "    <tr>\n",
              "      <th>N_dormitorios</th>\n",
              "      <td>0.566154</td>\n",
              "      <td>1.000000</td>\n",
              "      <td>0.518845</td>\n",
              "      <td>0.712803</td>\n",
              "    </tr>\n",
              "    <tr>\n",
              "      <th>N_banos</th>\n",
              "      <td>0.629223</td>\n",
              "      <td>0.518845</td>\n",
              "      <td>1.000000</td>\n",
              "      <td>0.701080</td>\n",
              "    </tr>\n",
              "    <tr>\n",
              "      <th>superficie</th>\n",
              "      <td>0.809474</td>\n",
              "      <td>0.712803</td>\n",
              "      <td>0.701080</td>\n",
              "      <td>1.000000</td>\n",
              "    </tr>\n",
              "  </tbody>\n",
              "</table>\n",
              "</div>"
            ],
            "text/plain": [
              "                 precio  N_dormitorios   N_banos  superficie\n",
              "precio         1.000000       0.566154  0.629223    0.809474\n",
              "N_dormitorios  0.566154       1.000000  0.518845    0.712803\n",
              "N_banos        0.629223       0.518845  1.000000    0.701080\n",
              "superficie     0.809474       0.712803  0.701080    1.000000"
            ]
          },
          "metadata": {
            "tags": []
          },
          "execution_count": 21
        }
      ]
    },
    {
      "cell_type": "code",
      "metadata": {
        "id": "VMQVg7dM-G96"
      },
      "source": [
        ""
      ],
      "execution_count": null,
      "outputs": []
    },
    {
      "cell_type": "markdown",
      "metadata": {
        "id": "vd26s4ev5osh"
      },
      "source": [
        "*#Acá podemos ver que la variable que es mas explicativa es la superficie, dando un R^2 de 0.809. Esto quiere decir  que las personas (en base a estos datos) prefieren por sobre todo la cantidad de espacio en el que van a vivir. Siendo el promedio en las muestra de 70 mts cuadrados para una casa promedio.**"
      ]
    },
    {
      "cell_type": "code",
      "metadata": {
        "id": "Lv47MJDwvu83",
        "colab": {
          "base_uri": "https://localhost:8080/",
          "height": 195
        },
        "outputId": "6e475453-3ba3-481c-f6d2-a88b90a9e055"
      },
      "source": [
        "X=np.column_stack([np.ones_like(data.superficie),data.superficie,data.N_dormitorios,data.N_banos])\n",
        "X_2=np.column_stack([np.ones_like(data.superficie),data.superficie,data.superficie**2,data.N_dormitorios,data.N_banos])\n",
        "X_3=np.column_stack([np.ones_like(data.superficie),data.superficie,data.N_dormitorios,data.N_banos,data.N_dormitorios/data.N_banos])"
      ],
      "execution_count": null,
      "outputs": [
        {
          "output_type": "error",
          "ename": "NameError",
          "evalue": "ignored",
          "traceback": [
            "\u001b[0;31m---------------------------------------------------------------------------\u001b[0m",
            "\u001b[0;31mNameError\u001b[0m                                 Traceback (most recent call last)",
            "\u001b[0;32m<ipython-input-7-c495ae71fb8d>\u001b[0m in \u001b[0;36m<module>\u001b[0;34m()\u001b[0m\n\u001b[0;32m----> 1\u001b[0;31m \u001b[0mX\u001b[0m\u001b[0;34m=\u001b[0m\u001b[0mnp\u001b[0m\u001b[0;34m.\u001b[0m\u001b[0mcolumn_stack\u001b[0m\u001b[0;34m(\u001b[0m\u001b[0;34m[\u001b[0m\u001b[0mnp\u001b[0m\u001b[0;34m.\u001b[0m\u001b[0mones_like\u001b[0m\u001b[0;34m(\u001b[0m\u001b[0mdata\u001b[0m\u001b[0;34m.\u001b[0m\u001b[0msuperficie\u001b[0m\u001b[0;34m)\u001b[0m\u001b[0;34m,\u001b[0m\u001b[0mdata\u001b[0m\u001b[0;34m.\u001b[0m\u001b[0msuperficie\u001b[0m\u001b[0;34m,\u001b[0m\u001b[0mdata\u001b[0m\u001b[0;34m.\u001b[0m\u001b[0mN_dormitorios\u001b[0m\u001b[0;34m,\u001b[0m\u001b[0mdata\u001b[0m\u001b[0;34m.\u001b[0m\u001b[0mN_banos\u001b[0m\u001b[0;34m]\u001b[0m\u001b[0;34m)\u001b[0m\u001b[0;34m\u001b[0m\u001b[0;34m\u001b[0m\u001b[0m\n\u001b[0m\u001b[1;32m      2\u001b[0m \u001b[0mX_2\u001b[0m\u001b[0;34m=\u001b[0m\u001b[0mnp\u001b[0m\u001b[0;34m.\u001b[0m\u001b[0mcolumn_stack\u001b[0m\u001b[0;34m(\u001b[0m\u001b[0;34m[\u001b[0m\u001b[0mnp\u001b[0m\u001b[0;34m.\u001b[0m\u001b[0mones_like\u001b[0m\u001b[0;34m(\u001b[0m\u001b[0mdata\u001b[0m\u001b[0;34m.\u001b[0m\u001b[0msuperficie\u001b[0m\u001b[0;34m)\u001b[0m\u001b[0;34m,\u001b[0m\u001b[0mdata\u001b[0m\u001b[0;34m.\u001b[0m\u001b[0msuperficie\u001b[0m\u001b[0;34m,\u001b[0m\u001b[0mdata\u001b[0m\u001b[0;34m.\u001b[0m\u001b[0msuperficie\u001b[0m\u001b[0;34m**\u001b[0m\u001b[0;36m2\u001b[0m\u001b[0;34m,\u001b[0m\u001b[0mdata\u001b[0m\u001b[0;34m.\u001b[0m\u001b[0mN_dormitorios\u001b[0m\u001b[0;34m,\u001b[0m\u001b[0mdata\u001b[0m\u001b[0;34m.\u001b[0m\u001b[0mN_banos\u001b[0m\u001b[0;34m]\u001b[0m\u001b[0;34m)\u001b[0m\u001b[0;34m\u001b[0m\u001b[0;34m\u001b[0m\u001b[0m\n\u001b[1;32m      3\u001b[0m \u001b[0mX_3\u001b[0m\u001b[0;34m=\u001b[0m\u001b[0mnp\u001b[0m\u001b[0;34m.\u001b[0m\u001b[0mcolumn_stack\u001b[0m\u001b[0;34m(\u001b[0m\u001b[0;34m[\u001b[0m\u001b[0mnp\u001b[0m\u001b[0;34m.\u001b[0m\u001b[0mones_like\u001b[0m\u001b[0;34m(\u001b[0m\u001b[0mdata\u001b[0m\u001b[0;34m.\u001b[0m\u001b[0msuperficie\u001b[0m\u001b[0;34m)\u001b[0m\u001b[0;34m,\u001b[0m\u001b[0mdata\u001b[0m\u001b[0;34m.\u001b[0m\u001b[0msuperficie\u001b[0m\u001b[0;34m,\u001b[0m\u001b[0mdata\u001b[0m\u001b[0;34m.\u001b[0m\u001b[0mN_dormitorios\u001b[0m\u001b[0;34m,\u001b[0m\u001b[0mdata\u001b[0m\u001b[0;34m.\u001b[0m\u001b[0mN_banos\u001b[0m\u001b[0;34m,\u001b[0m\u001b[0mdata\u001b[0m\u001b[0;34m.\u001b[0m\u001b[0mN_dormitorios\u001b[0m\u001b[0;34m/\u001b[0m\u001b[0mdata\u001b[0m\u001b[0;34m.\u001b[0m\u001b[0mN_banos\u001b[0m\u001b[0;34m]\u001b[0m\u001b[0;34m)\u001b[0m\u001b[0;34m\u001b[0m\u001b[0;34m\u001b[0m\u001b[0m\n",
            "\u001b[0;31mNameError\u001b[0m: name 'data' is not defined"
          ]
        }
      ]
    },
    {
      "cell_type": "markdown",
      "metadata": {
        "id": "KWxSuZLm_fYx"
      },
      "source": [
        "*Acá Se hacen 3 regresiones; X_1=Las variables superficie,dormitorios,baños,X_2; superficie, superficie al cuadrado, numero de dormitorios y numero de bañños. X_3;superficie,numero de baños y un coeficiente entre la division dormitorios/baño. *"
      ]
    },
    {
      "cell_type": "code",
      "metadata": {
        "id": "90AwLBsS13iX"
      },
      "source": [
        ""
      ],
      "execution_count": null,
      "outputs": []
    },
    {
      "cell_type": "markdown",
      "metadata": {
        "id": "Buih63Gb_d53"
      },
      "source": [
        ""
      ]
    },
    {
      "cell_type": "code",
      "metadata": {
        "id": "EGEinyIi5DFy"
      },
      "source": [
        ""
      ],
      "execution_count": null,
      "outputs": []
    },
    {
      "cell_type": "code",
      "metadata": {
        "id": "gidXv5_ivu84",
        "colab": {
          "base_uri": "https://localhost:8080/",
          "height": 229
        },
        "outputId": "96b9a191-e8a7-4427-f272-7575618d7329"
      },
      "source": [
        "ECM1=0\n",
        "ECM2=0\n",
        "ECM3=0\n",
        "for i in range(1000):\n",
        "    X_train,X_test,Y_train,Y_test=train_test_split(X,data.precio,test_size=0.2,random_state=i)\n",
        "    model_sk=linear_model.LinearRegression()\n",
        "    model_sk.fit(X_train,Y_train)\n",
        "    Y_sk=model_sk.predict(X_test)\n",
        "    ECM_1=np.mean((Y_test-Y_sk)**2)\n",
        "    ECM1=ECM1+ECM_1\n",
        "    \n",
        "    X_2_train,X_2_test,Y_2_train,Y_2_test=train_test_split(X_2,data.precio,test_size=0.2,random_state=i)\n",
        "    model_sk_2=linear_model.LinearRegression()\n",
        "    model_sk_2.fit(X_2_train,Y_2_train)\n",
        "    Y_sk_2=model_sk_2.predict(X_2_test)\n",
        "    ECM_2=np.mean((Y_2_test-Y_sk_2)**2)\n",
        "    ECM2=ECM2+ECM_2\n",
        "    \n",
        "    X_3_train,X_3_test,Y_3_train,Y_3_test=train_test_split(X_3,data.precio,test_size=0.2,random_state=i)\n",
        "    model_sk_3=linear_model.LinearRegression()\n",
        "    model_sk_3.fit(X_3_train,Y_3_train)\n",
        "    Y_sk_3=model_sk_3.predict(X_3_test)\n",
        "    ECM_3=np.mean((Y_3_test-Y_sk_3)**2)\n",
        "    ECM3=ECM3+ECM_3\n",
        "    \n",
        "print(ECM1/100,ECM2/100,ECM3/100)\n",
        "    \n"
      ],
      "execution_count": null,
      "outputs": [
        {
          "output_type": "error",
          "ename": "NameError",
          "evalue": "ignored",
          "traceback": [
            "\u001b[0;31m---------------------------------------------------------------------------\u001b[0m",
            "\u001b[0;31mNameError\u001b[0m                                 Traceback (most recent call last)",
            "\u001b[0;32m<ipython-input-6-13bd3605b7e8>\u001b[0m in \u001b[0;36m<module>\u001b[0;34m()\u001b[0m\n\u001b[1;32m      3\u001b[0m \u001b[0mECM3\u001b[0m\u001b[0;34m=\u001b[0m\u001b[0;36m0\u001b[0m\u001b[0;34m\u001b[0m\u001b[0;34m\u001b[0m\u001b[0m\n\u001b[1;32m      4\u001b[0m \u001b[0;32mfor\u001b[0m \u001b[0mi\u001b[0m \u001b[0;32min\u001b[0m \u001b[0mrange\u001b[0m\u001b[0;34m(\u001b[0m\u001b[0;36m1000\u001b[0m\u001b[0;34m)\u001b[0m\u001b[0;34m:\u001b[0m\u001b[0;34m\u001b[0m\u001b[0;34m\u001b[0m\u001b[0m\n\u001b[0;32m----> 5\u001b[0;31m     \u001b[0mX_train\u001b[0m\u001b[0;34m,\u001b[0m\u001b[0mX_test\u001b[0m\u001b[0;34m,\u001b[0m\u001b[0mY_train\u001b[0m\u001b[0;34m,\u001b[0m\u001b[0mY_test\u001b[0m\u001b[0;34m=\u001b[0m\u001b[0mtrain_test_split\u001b[0m\u001b[0;34m(\u001b[0m\u001b[0mX\u001b[0m\u001b[0;34m,\u001b[0m\u001b[0mdata\u001b[0m\u001b[0;34m.\u001b[0m\u001b[0mprecio\u001b[0m\u001b[0;34m,\u001b[0m\u001b[0mtest_size\u001b[0m\u001b[0;34m=\u001b[0m\u001b[0;36m0.2\u001b[0m\u001b[0;34m,\u001b[0m\u001b[0mrandom_state\u001b[0m\u001b[0;34m=\u001b[0m\u001b[0mi\u001b[0m\u001b[0;34m)\u001b[0m\u001b[0;34m\u001b[0m\u001b[0;34m\u001b[0m\u001b[0m\n\u001b[0m\u001b[1;32m      6\u001b[0m     \u001b[0mmodel_sk\u001b[0m\u001b[0;34m=\u001b[0m\u001b[0mlinear_model\u001b[0m\u001b[0;34m.\u001b[0m\u001b[0mLinearRegression\u001b[0m\u001b[0;34m(\u001b[0m\u001b[0;34m)\u001b[0m\u001b[0;34m\u001b[0m\u001b[0;34m\u001b[0m\u001b[0m\n\u001b[1;32m      7\u001b[0m     \u001b[0mmodel_sk\u001b[0m\u001b[0;34m.\u001b[0m\u001b[0mfit\u001b[0m\u001b[0;34m(\u001b[0m\u001b[0mX_train\u001b[0m\u001b[0;34m,\u001b[0m\u001b[0mY_train\u001b[0m\u001b[0;34m)\u001b[0m\u001b[0;34m\u001b[0m\u001b[0;34m\u001b[0m\u001b[0m\n",
            "\u001b[0;31mNameError\u001b[0m: name 'X' is not defined"
          ]
        }
      ]
    },
    {
      "cell_type": "code",
      "metadata": {
        "id": "rpzhEbU2C8Mi"
      },
      "source": [
        ""
      ],
      "execution_count": null,
      "outputs": []
    },
    {
      "cell_type": "markdown",
      "metadata": {
        "id": "NGMsIc7GC8i9"
      },
      "source": [
        ""
      ]
    },
    {
      "cell_type": "code",
      "metadata": {
        "id": "wqmZAe5hD3uZ"
      },
      "source": [
        ""
      ],
      "execution_count": null,
      "outputs": []
    },
    {
      "cell_type": "markdown",
      "metadata": {
        "id": "D4UKH2eUCLDc"
      },
      "source": [
        "*****CONCLUSION: Dadas los datos, la mejor variable explicativa es sin duda la superficie. Los numeros de dormitorios y baños aportan \n",
        "tambien al precio pero en menor medida.Al hacer un scatterplot, vemos la correlacion positiva siendo que modelo predictor que mejor \n",
        "se ajusta es un polinomio de grado 2, aquella regresión con el \"raw data\", definida como con la variable superficie,numero de baños y dormitorios\n",
        " sin modificar y el modelo que mejor predice los precios.*****"
      ]
    },
    {
      "cell_type": "code",
      "metadata": {
        "id": "uchF4SaWvu84"
      },
      "source": [
        "\n",
        "\n",
        "\n"
      ],
      "execution_count": null,
      "outputs": []
    },
    {
      "cell_type": "markdown",
      "metadata": {
        "id": "gKEWGSHE8mFg"
      },
      "source": [
        ""
      ]
    }
  ]
}